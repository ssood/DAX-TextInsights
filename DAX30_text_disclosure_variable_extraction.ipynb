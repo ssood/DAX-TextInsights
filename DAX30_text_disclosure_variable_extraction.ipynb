{
  "nbformat": 4,
  "nbformat_minor": 0,
  "metadata": {
    "colab": {
      "provenance": [],
      "include_colab_link": true
    },
    "kernelspec": {
      "name": "python3",
      "display_name": "Python 3"
    },
    "language_info": {
      "name": "python"
    }
  },
  "cells": [
    {
      "cell_type": "markdown",
      "metadata": {
        "id": "view-in-github",
        "colab_type": "text"
      },
      "source": [
        "<a href=\"https://colab.research.google.com/github/ssood/DAX50TextInsights/blob/main/DAX50_text_disclosure_variable_extraction.ipynb\" target=\"_parent\"><img src=\"https://colab.research.google.com/assets/colab-badge.svg\" alt=\"Open In Colab\"/></a>"
      ]
    },
    {
      "cell_type": "code",
      "source": [
        "!pip install pdfminer.six"
      ],
      "metadata": {
        "colab": {
          "base_uri": "https://localhost:8080/"
        },
        "id": "6qj1SMcY6-IF",
        "outputId": "2b836f7e-c267-40a7-f26a-8b19ddfc6337"
      },
      "execution_count": 1,
      "outputs": [
        {
          "output_type": "stream",
          "name": "stdout",
          "text": [
            "Requirement already satisfied: pdfminer.six in /usr/local/lib/python3.10/dist-packages (20231228)\n",
            "Requirement already satisfied: charset-normalizer>=2.0.0 in /usr/local/lib/python3.10/dist-packages (from pdfminer.six) (3.3.2)\n",
            "Requirement already satisfied: cryptography>=36.0.0 in /usr/local/lib/python3.10/dist-packages (from pdfminer.six) (42.0.2)\n",
            "Requirement already satisfied: cffi>=1.12 in /usr/local/lib/python3.10/dist-packages (from cryptography>=36.0.0->pdfminer.six) (1.16.0)\n",
            "Requirement already satisfied: pycparser in /usr/local/lib/python3.10/dist-packages (from cffi>=1.12->cryptography>=36.0.0->pdfminer.six) (2.21)\n"
          ]
        }
      ]
    },
    {
      "cell_type": "code",
      "source": [
        "from pdfminer.high_level import extract_text"
      ],
      "metadata": {
        "id": "T-2hEORJ7K01"
      },
      "execution_count": 2,
      "outputs": []
    },
    {
      "cell_type": "code",
      "source": [
        "text = extract_text('/content/sample_data/MTU_annual report_2021_en.pdf')"
      ],
      "metadata": {
        "id": "XK4CaLF57Ubd",
        "colab": {
          "base_uri": "https://localhost:8080/"
        },
        "outputId": "fa35736c-3f6e-4bf3-ea20-782fc0d799fc"
      },
      "execution_count": 3,
      "outputs": [
        {
          "output_type": "stream",
          "name": "stderr",
          "text": [
            "WARNING:pdfminer.pdfpage:The PDF <_io.BufferedReader name='/content/sample_data/MTU_annual report_2021_en.pdf'> contains a metadata field indicating that it should not allow text extraction. Ignoring this field and proceeding. Use the check_extractable if you want to raise an error in this case\n"
          ]
        }
      ]
    },
    {
      "cell_type": "code",
      "source": [
        "#returns a printable representation of text\n",
        "# print (repr(text))"
      ],
      "metadata": {
        "id": "dtEWwg7b7mp7"
      },
      "execution_count": 4,
      "outputs": []
    },
    {
      "cell_type": "code",
      "source": [
        "!pip install textstat"
      ],
      "metadata": {
        "colab": {
          "base_uri": "https://localhost:8080/"
        },
        "id": "hDVuG62npqKo",
        "outputId": "f68f03cf-b7f4-4036-e77d-c1f573ad4aae"
      },
      "execution_count": 5,
      "outputs": [
        {
          "output_type": "stream",
          "name": "stdout",
          "text": [
            "Requirement already satisfied: textstat in /usr/local/lib/python3.10/dist-packages (0.7.3)\n",
            "Requirement already satisfied: pyphen in /usr/local/lib/python3.10/dist-packages (from textstat) (0.14.0)\n"
          ]
        }
      ]
    },
    {
      "cell_type": "code",
      "source": [
        "import textstat"
      ],
      "metadata": {
        "id": "FoEPONI7poTz"
      },
      "execution_count": 6,
      "outputs": []
    },
    {
      "cell_type": "code",
      "source": [
        "textstat.syllable_count(text)"
      ],
      "metadata": {
        "colab": {
          "base_uri": "https://localhost:8080/"
        },
        "id": "-H1cVQUmpRwV",
        "outputId": "6ddd5527-b799-4d21-ca62-2fcda6598c2b"
      },
      "execution_count": 7,
      "outputs": [
        {
          "output_type": "execute_result",
          "data": {
            "text/plain": [
              "207957"
            ]
          },
          "metadata": {},
          "execution_count": 7
        }
      ]
    },
    {
      "cell_type": "code",
      "source": [
        "textstat.gunning_fog(text)"
      ],
      "metadata": {
        "id": "T9edkfVc-zig",
        "colab": {
          "base_uri": "https://localhost:8080/"
        },
        "outputId": "1eaf7c30-dbc6-433b-8a39-f208c1a6c858"
      },
      "execution_count": 8,
      "outputs": [
        {
          "output_type": "execute_result",
          "data": {
            "text/plain": [
              "11.27"
            ]
          },
          "metadata": {},
          "execution_count": 8
        }
      ]
    },
    {
      "cell_type": "code",
      "source": [
        "textstat.smog_index(text)"
      ],
      "metadata": {
        "id": "Mj6OkNIDpxPH",
        "colab": {
          "base_uri": "https://localhost:8080/"
        },
        "outputId": "a1771549-4f69-4074-c594-5192ca964b5e"
      },
      "execution_count": 9,
      "outputs": [
        {
          "output_type": "execute_result",
          "data": {
            "text/plain": [
              "16.8"
            ]
          },
          "metadata": {},
          "execution_count": 9
        }
      ]
    },
    {
      "cell_type": "code",
      "source": [
        "textstat.flesch_reading_ease(text)"
      ],
      "metadata": {
        "id": "jkJy0haqNAGt",
        "colab": {
          "base_uri": "https://localhost:8080/"
        },
        "outputId": "bdcd8dba-4877-4696-86b2-950ebd326724"
      },
      "execution_count": 10,
      "outputs": [
        {
          "output_type": "execute_result",
          "data": {
            "text/plain": [
              "27.86"
            ]
          },
          "metadata": {},
          "execution_count": 10
        }
      ]
    },
    {
      "cell_type": "code",
      "source": [
        "textstat.flesch_kincaid_grade(text)"
      ],
      "metadata": {
        "id": "9Vy-lL6d-mW3",
        "colab": {
          "base_uri": "https://localhost:8080/"
        },
        "outputId": "de789817-7708-4212-81d2-d9d35720a8df"
      },
      "execution_count": 11,
      "outputs": [
        {
          "output_type": "execute_result",
          "data": {
            "text/plain": [
              "15.9"
            ]
          },
          "metadata": {},
          "execution_count": 11
        }
      ]
    },
    {
      "cell_type": "code",
      "source": [
        "textstat.reading_time(text)"
      ],
      "metadata": {
        "id": "tfrQZ_V7_qaM",
        "colab": {
          "base_uri": "https://localhost:8080/"
        },
        "outputId": "dc8c17b0-86f9-4470-90c5-59ba30790886"
      },
      "execution_count": 12,
      "outputs": [
        {
          "output_type": "execute_result",
          "data": {
            "text/plain": [
              "9693.9"
            ]
          },
          "metadata": {},
          "execution_count": 12
        }
      ]
    },
    {
      "cell_type": "code",
      "source": [
        "textstat.sentence_count(text)"
      ],
      "metadata": {
        "id": "IF66Dl4U-QYH",
        "colab": {
          "base_uri": "https://localhost:8080/"
        },
        "outputId": "085379a0-1b42-4293-80f7-82245afb4bde"
      },
      "execution_count": 13,
      "outputs": [
        {
          "output_type": "execute_result",
          "data": {
            "text/plain": [
              "4487"
            ]
          },
          "metadata": {},
          "execution_count": 13
        }
      ]
    },
    {
      "cell_type": "code",
      "source": [
        "words = text.replace('\\n',' ').split(' ')  # Converts string into list by splitting on ' '\n",
        "words = [w for w in words if w != '']  #drops empty strings"
      ],
      "metadata": {
        "id": "IJzJY4gSs83_"
      },
      "execution_count": 14,
      "outputs": []
    },
    {
      "cell_type": "code",
      "source": [
        "#print(words)"
      ],
      "metadata": {
        "id": "R5p1nHljuJnd"
      },
      "execution_count": 15,
      "outputs": []
    },
    {
      "cell_type": "code",
      "source": [
        "word_count = len(words)\n",
        "print(word_count)\n"
      ],
      "metadata": {
        "colab": {
          "base_uri": "https://localhost:8080/"
        },
        "id": "A15tbzD4k-Su",
        "outputId": "8abe3123-c537-40f5-f2ed-b783cefedf87"
      },
      "execution_count": 16,
      "outputs": [
        {
          "output_type": "stream",
          "name": "stdout",
          "text": [
            "118685\n"
          ]
        }
      ]
    }
  ]
}
