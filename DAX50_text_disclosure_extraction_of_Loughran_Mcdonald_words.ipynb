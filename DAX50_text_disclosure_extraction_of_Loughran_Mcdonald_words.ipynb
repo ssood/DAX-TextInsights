{
  "nbformat": 4,
  "nbformat_minor": 0,
  "metadata": {
    "colab": {
      "provenance": [],
      "include_colab_link": true
    },
    "kernelspec": {
      "name": "python3",
      "display_name": "Python 3"
    },
    "language_info": {
      "name": "python"
    }
  },
  "cells": [
    {
      "cell_type": "markdown",
      "metadata": {
        "id": "view-in-github",
        "colab_type": "text"
      },
      "source": [
        "<a href=\"https://colab.research.google.com/github/ssood/DAX-TextInsights/blob/main/DAX50_text_disclosure_extraction_of_Loughran_Mcdonald_words.ipynb\" target=\"_parent\"><img src=\"https://colab.research.google.com/assets/colab-badge.svg\" alt=\"Open In Colab\"/></a>"
      ]
    },
    {
      "cell_type": "code",
      "source": [
        "!pip install pdfminer.six"
      ],
      "metadata": {
        "colab": {
          "base_uri": "https://localhost:8080/"
        },
        "id": "6qj1SMcY6-IF",
        "outputId": "554aa299-c281-4640-e9ab-17dc9bac2968"
      },
      "execution_count": null,
      "outputs": [
        {
          "output_type": "stream",
          "name": "stdout",
          "text": [
            "Collecting pdfminer.six\n",
            "  Downloading pdfminer.six-20231228-py3-none-any.whl (5.6 MB)\n",
            "\u001b[2K     \u001b[90m━━━━━━━━━━━━━━━━━━━━━━━━━━━━━━━━━━━━━━━━\u001b[0m \u001b[32m5.6/5.6 MB\u001b[0m \u001b[31m14.5 MB/s\u001b[0m eta \u001b[36m0:00:00\u001b[0m\n",
            "\u001b[?25hRequirement already satisfied: charset-normalizer>=2.0.0 in /usr/local/lib/python3.10/dist-packages (from pdfminer.six) (3.3.2)\n",
            "Requirement already satisfied: cryptography>=36.0.0 in /usr/local/lib/python3.10/dist-packages (from pdfminer.six) (42.0.2)\n",
            "Requirement already satisfied: cffi>=1.12 in /usr/local/lib/python3.10/dist-packages (from cryptography>=36.0.0->pdfminer.six) (1.16.0)\n",
            "Requirement already satisfied: pycparser in /usr/local/lib/python3.10/dist-packages (from cffi>=1.12->cryptography>=36.0.0->pdfminer.six) (2.21)\n",
            "Installing collected packages: pdfminer.six\n",
            "Successfully installed pdfminer.six-20231228\n"
          ]
        }
      ]
    },
    {
      "cell_type": "code",
      "source": [
        "from pdfminer.high_level import extract_text"
      ],
      "metadata": {
        "id": "T-2hEORJ7K01"
      },
      "execution_count": null,
      "outputs": []
    },
    {
      "cell_type": "code",
      "source": [
        "text = extract_text('/content/sample_data/MTU_annual report_2021_en.pdf')"
      ],
      "metadata": {
        "id": "XK4CaLF57Ubd",
        "colab": {
          "base_uri": "https://localhost:8080/"
        },
        "outputId": "df8d75db-ada9-423a-e4d7-ef4a0a843e6d"
      },
      "execution_count": null,
      "outputs": [
        {
          "output_type": "stream",
          "name": "stderr",
          "text": [
            "WARNING:pdfminer.pdfpage:The PDF <_io.BufferedReader name='/content/sample_data/MTU_annual report_2021_en.pdf'> contains a metadata field indicating that it should not allow text extraction. Ignoring this field and proceeding. Use the check_extractable if you want to raise an error in this case\n"
          ]
        }
      ]
    },
    {
      "cell_type": "code",
      "source": [
        "#returns a printable representation of text\n",
        "#print (repr(text))"
      ],
      "metadata": {
        "id": "dtEWwg7b7mp7"
      },
      "execution_count": null,
      "outputs": []
    },
    {
      "cell_type": "code",
      "source": [
        "words = text.replace('\\n',' ').split(' ')  # Converts string into list by splitting on ' '\n",
        "words = [w for w in words if w != '']  #drops empty strings"
      ],
      "metadata": {
        "id": "IJzJY4gSs83_"
      },
      "execution_count": null,
      "outputs": []
    },
    {
      "cell_type": "code",
      "source": [
        "#print(words)"
      ],
      "metadata": {
        "id": "R5p1nHljuJnd"
      },
      "execution_count": null,
      "outputs": []
    },
    {
      "cell_type": "code",
      "source": [
        "word_count = len(words)\n",
        "print(word_count)\n"
      ],
      "metadata": {
        "colab": {
          "base_uri": "https://localhost:8080/"
        },
        "id": "A15tbzD4k-Su",
        "outputId": "f1e53a0e-1be9-47b2-876b-e8eadcbd1279"
      },
      "execution_count": null,
      "outputs": [
        {
          "output_type": "stream",
          "name": "stdout",
          "text": [
            "118685\n"
          ]
        }
      ]
    },
    {
      "cell_type": "code",
      "source": [
        "for i in range(0, word_count):\n",
        "        if input_words[i] in dict['Negative']:\n",
        "            neg_count += 1\n",
        "            neg_words.append(input_words[i])\n",
        "        if input_words[i] in dict['Positive']:\n",
        "            if i >= 3:\n",
        "                if negated(input_words[i - 1]) or negated(input_words[i - 2]) or negated(input_words[i - 3]):\n",
        "                    neg_count += 1\n",
        "                    neg_words.append(input_words[i] + ' (with negation)')\n",
        "                else:\n",
        "                    pos_count += 1\n",
        "                    pos_words.append(input_words[i])\n",
        "            elif i == 2:\n",
        "                if negated(input_words[i - 1]) or negated(input_words[i - 2]):\n",
        "                    neg_count += 1\n",
        "                    neg_words.append(input_words[i] + ' (with negation)')\n",
        "                else:\n",
        "                    pos_count += 1\n",
        "                    pos_words.append(input_words[i])\n",
        "            elif i == 1:\n",
        "                if negated(input_words[i - 1]):\n",
        "                    neg_count += 1\n",
        "                    neg_words.append(input_words[i] + ' (with negation)')\n",
        "                else:\n",
        "                    pos_count += 1\n",
        "                    pos_words.append(input_words[i])\n",
        "            elif i == 0:\n",
        "                pos_count += 1\n",
        "                pos_words.append(input_words[i])\n",
        "\n",
        "    print('The results with negation check:', end='\\n\\n')\n",
        "    print('The # of positive words:', pos_count)\n",
        "    print('The # of negative words:', neg_count)\n",
        "    print('The list of found positive words:', pos_words)\n",
        "    print('The list of found negative words:', neg_words)\n",
        "    print('\\n', end='')"
      ],
      "metadata": {
        "id": "F1K7xRfWuZ5M",
        "colab": {
          "base_uri": "https://localhost:8080/",
          "height": 106
        },
        "outputId": "e4193396-3aaa-447d-d718-a457db0c08cb"
      },
      "execution_count": null,
      "outputs": [
        {
          "output_type": "error",
          "ename": "IndentationError",
          "evalue": "unindent does not match any outer indentation level (<tokenize>, line 31)",
          "traceback": [
            "\u001b[0;36m  File \u001b[0;32m\"<tokenize>\"\u001b[0;36m, line \u001b[0;32m31\u001b[0m\n\u001b[0;31m    print('The results with negation check:', end='\\n\\n')\u001b[0m\n\u001b[0m    ^\u001b[0m\n\u001b[0;31mIndentationError\u001b[0m\u001b[0;31m:\u001b[0m unindent does not match any outer indentation level\n"
          ]
        }
      ]
    },
    {
      "cell_type": "code",
      "source": [
        " results = [word_count, pos_count, neg_count, pos_words, neg_words]\n",
        "\n",
        "    return results"
      ],
      "metadata": {
        "id": "p5Dn6Zb2upDf"
      },
      "execution_count": null,
      "outputs": []
    }
  ]
}